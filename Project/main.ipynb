{
 "cells": [
  {
   "attachments": {},
   "cell_type": "markdown",
   "metadata": {},
   "source": [
    "\n",
    "# The project\n",
    "\n",
    "The goal is to visualize the University of Rennes 1 timetable.\n",
    "\n",
    "The data scraped from: https://planning.univ-rennes1.fr\n",
    "\n",
    "Possible Features :\n",
    "\n",
    "- [ ] Visualize working hours \n",
    "- [ ] Visualize Rooms occupation\n",
    "- [ ] Visualize the campus heat map\n",
    "- [ ] Predict the population at a given time"
   ]
  },
  {
   "attachments": {},
   "cell_type": "markdown",
   "metadata": {},
   "source": [
    "# The parsing"
   ]
  },
  {
   "cell_type": "code",
   "execution_count": 2,
   "metadata": {},
   "outputs": [],
   "source": [
    "import pandas as pd\n",
    "import icalendar\n",
    "import matplotlib.pyplot as plt"
   ]
  },
  {
   "cell_type": "code",
   "execution_count": 3,
   "metadata": {},
   "outputs": [],
   "source": [
    "# Read the iCalendar file\n",
    "with open('data/ADECal.ics', 'rb') as f:\n",
    "    cal_data = f.read()\n",
    "\n",
    "# Parse the iCalendar object (Very time consuming)\n",
    "cal = icalendar.Calendar.from_ical(cal_data)\n",
    "events = cal.walk('VEVENT')"
   ]
  },
  {
   "cell_type": "code",
   "execution_count": 4,
   "metadata": {},
   "outputs": [
    {
     "data": {
      "text/plain": [
       "['DTSTAMP',\n",
       " 'DTSTART',\n",
       " 'DTEND',\n",
       " 'SUMMARY',\n",
       " 'LOCATION',\n",
       " 'DESCRIPTION',\n",
       " 'UID',\n",
       " 'CREATED',\n",
       " 'LAST-MODIFIED',\n",
       " 'SEQUENCE']"
      ]
     },
     "execution_count": 4,
     "metadata": {},
     "output_type": "execute_result"
    }
   ],
   "source": [
    "# show the field names of an event\n",
    "list(events[0].keys())"
   ]
  },
  {
   "cell_type": "code",
   "execution_count": 5,
   "metadata": {},
   "outputs": [],
   "source": [
    "# Define the parse_event utility function\n",
    "# In here we can define what to keep from the event\n",
    "# Possible fields are:\n",
    "# ['DTSTAMP', 'DTSTART', 'DTEND', 'SUMMARY', 'LOCATION', 'DESCRIPTION', 'UID', 'CREATED', 'LAST-MODIFIED', 'SEQUENCE']\n",
    "def parse_event(event):\n",
    "    row = {}\n",
    "    row['start_time'] = event['DTSTART'].dt\n",
    "    row['end_time'] = event['DTEND'].dt\n",
    "    row['summary'] = event['SUMMARY']\n",
    "    row['description'] = event['DESCRIPTION']\n",
    "    row['location'] = event.get('LOCATION', None)\n",
    "    return row"
   ]
  },
  {
   "cell_type": "code",
   "execution_count": 6,
   "metadata": {},
   "outputs": [],
   "source": [
    "# Extract event details\n",
    "data = [parse_event(event) for event in events]\n",
    "\n",
    "# Create a DataFrame\n",
    "df = pd.DataFrame(data)"
   ]
  },
  {
   "cell_type": "code",
   "execution_count": 7,
   "metadata": {},
   "outputs": [
    {
     "data": {
      "text/html": [
       "<div>\n",
       "<style scoped>\n",
       "    .dataframe tbody tr th:only-of-type {\n",
       "        vertical-align: middle;\n",
       "    }\n",
       "\n",
       "    .dataframe tbody tr th {\n",
       "        vertical-align: top;\n",
       "    }\n",
       "\n",
       "    .dataframe thead th {\n",
       "        text-align: right;\n",
       "    }\n",
       "</style>\n",
       "<table border=\"1\" class=\"dataframe\">\n",
       "  <thead>\n",
       "    <tr style=\"text-align: right;\">\n",
       "      <th></th>\n",
       "      <th>start_time</th>\n",
       "      <th>end_time</th>\n",
       "      <th>summary</th>\n",
       "      <th>description</th>\n",
       "      <th>location</th>\n",
       "    </tr>\n",
       "  </thead>\n",
       "  <tbody>\n",
       "    <tr>\n",
       "      <th>0</th>\n",
       "      <td>2023-03-23 10:15:00+00:00</td>\n",
       "      <td>2023-03-23 11:45:00+00:00</td>\n",
       "      <td>Cristallo TD 1C MP</td>\n",
       "      <td>\\n\\n1C MP\\nR2.09 Structures des matériaux\\nDUR...</td>\n",
       "      <td>B06 - 123</td>\n",
       "    </tr>\n",
       "    <tr>\n",
       "      <th>1</th>\n",
       "      <td>2023-04-11 08:30:00+00:00</td>\n",
       "      <td>2023-04-11 10:00:00+00:00</td>\n",
       "      <td>P2 - CM - Chimie Organique</td>\n",
       "      <td>\\n\\nP2 - DFGSP2\\nPOREE François-Hugues\\nBrigit...</td>\n",
       "      <td>B02 - Amphi B (005)</td>\n",
       "    </tr>\n",
       "    <tr>\n",
       "      <th>2</th>\n",
       "      <td>2023-01-13 07:00:00+00:00</td>\n",
       "      <td>2023-01-13 08:00:00+00:00</td>\n",
       "      <td>Math S2 CM 1MP</td>\n",
       "      <td>\\n\\nMP A1\\nR2.03 Mathématiques\\nLE PALUD Micka...</td>\n",
       "      <td>B03 - Amphi 1 (007)</td>\n",
       "    </tr>\n",
       "    <tr>\n",
       "      <th>3</th>\n",
       "      <td>2023-05-02 15:00:00+00:00</td>\n",
       "      <td>2023-05-02 16:30:00+00:00</td>\n",
       "      <td>TP BCEL Projet</td>\n",
       "      <td>\\n\\nGR17-L.AS (37)\\nBiologie de la cellule\\nEn...</td>\n",
       "      <td>B29 - Biologie cellulaire (025),B29 - Biologie...</td>\n",
       "    </tr>\n",
       "    <tr>\n",
       "      <th>4</th>\n",
       "      <td>2023-02-03 12:45:00+00:00</td>\n",
       "      <td>2023-02-03 15:45:00+00:00</td>\n",
       "      <td>Transfert thermiques TP 1A2 MP</td>\n",
       "      <td>\\n\\n1A2 MP\\nR2.12 Transferts thermiques\\nPERRI...</td>\n",
       "      <td>B06 - TP Thermo (012)</td>\n",
       "    </tr>\n",
       "  </tbody>\n",
       "</table>\n",
       "</div>"
      ],
      "text/plain": [
       "                 start_time                  end_time  \\\n",
       "0 2023-03-23 10:15:00+00:00 2023-03-23 11:45:00+00:00   \n",
       "1 2023-04-11 08:30:00+00:00 2023-04-11 10:00:00+00:00   \n",
       "2 2023-01-13 07:00:00+00:00 2023-01-13 08:00:00+00:00   \n",
       "3 2023-05-02 15:00:00+00:00 2023-05-02 16:30:00+00:00   \n",
       "4 2023-02-03 12:45:00+00:00 2023-02-03 15:45:00+00:00   \n",
       "\n",
       "                          summary  \\\n",
       "0              Cristallo TD 1C MP   \n",
       "1      P2 - CM - Chimie Organique   \n",
       "2                  Math S2 CM 1MP   \n",
       "3                  TP BCEL Projet   \n",
       "4  Transfert thermiques TP 1A2 MP   \n",
       "\n",
       "                                         description  \\\n",
       "0  \\n\\n1C MP\\nR2.09 Structures des matériaux\\nDUR...   \n",
       "1  \\n\\nP2 - DFGSP2\\nPOREE François-Hugues\\nBrigit...   \n",
       "2  \\n\\nMP A1\\nR2.03 Mathématiques\\nLE PALUD Micka...   \n",
       "3  \\n\\nGR17-L.AS (37)\\nBiologie de la cellule\\nEn...   \n",
       "4  \\n\\n1A2 MP\\nR2.12 Transferts thermiques\\nPERRI...   \n",
       "\n",
       "                                            location  \n",
       "0                                          B06 - 123  \n",
       "1                                B02 - Amphi B (005)  \n",
       "2                                B03 - Amphi 1 (007)  \n",
       "3  B29 - Biologie cellulaire (025),B29 - Biologie...  \n",
       "4                              B06 - TP Thermo (012)  "
      ]
     },
     "execution_count": 7,
     "metadata": {},
     "output_type": "execute_result"
    }
   ],
   "source": [
    "df.head()"
   ]
  },
  {
   "attachments": {},
   "cell_type": "markdown",
   "metadata": {},
   "source": [
    "# Feature : Visualize activity per hour, day, week"
   ]
  },
  {
   "cell_type": "code",
   "execution_count": 17,
   "metadata": {},
   "outputs": [
    {
     "data": {
      "text/plain": [
       "Text(0.5, 1.1, 'Hours heatmap of UR1 (2022-2023)')"
      ]
     },
     "execution_count": 17,
     "metadata": {},
     "output_type": "execute_result"
    },
    {
     "data": {
      "image/png": "[encoded data removed]",
      "text/plain": [
       "<Figure size 2000x1000 with 3 Axes>"
      ]
     },
     "metadata": {},
     "output_type": "display_data"
    }
   ],
   "source": [
    "\n",
    "day_to_index = {\n",
    "    'Monday': 0,\n",
    "    'Tuesday': 1,\n",
    "    'Wednesday': 2,\n",
    "    'Thursday': 3,\n",
    "    'Friday': 4,\n",
    "    'Saturday': 5,\n",
    "    'Sunday': 6\n",
    "}\n",
    "\n",
    "fig = plt.figure(figsize=(20,10))\n",
    "ax = fig.add_subplot(111)\n",
    "\n",
    "# Plot the events\n",
    "for event in df.itertuples():\n",
    "    data=\"\"\n",
    "    day = event.start_time.day_name()\n",
    "    if day not in day_to_index:\n",
    "        print('Day {0} not found'.format(day))\n",
    "        continue\n",
    "    day_index = day_to_index[day]\n",
    "    start_hour = event.start_time.hour\n",
    "    end_hour = event.end_time.hour\n",
    "    # plot event\n",
    "    ax.fill_between([day_index-.45, day_index+.45], [start_hour, start_hour], [end_hour,end_hour], color=\"b\",  alpha=.01,  edgecolor='k', linewidth=0.5)\n",
    "    \n",
    "    # plot event count in this box\n",
    "    # plt.text(day_index, (start_hour+end_hour)*0.5, data, ha='center', va='center', fontsize=7, color='w')\n",
    "\n",
    "\n",
    "# Set Axis\n",
    "ax.yaxis.grid()\n",
    "ax.set_ylim(22, 2)\n",
    "ax.set_ylabel('Time')\n",
    "ax.set_xlim(0.5,len(day_to_index)+0.5)\n",
    "ax.set_xticks(range(1,len(day_to_index)+1))\n",
    "ax.set_xticklabels(day_to_index.keys())\n",
    "\n",
    "# Set Second Axis\n",
    "ax2=ax.twiny().twinx()\n",
    "ax2.set_xlim(ax.get_xlim())\n",
    "ax2.set_ylim(ax.get_ylim())\n",
    "ax2.set_xticks(ax.get_xticks())\n",
    "ax2.set_xticklabels(day_to_index.keys() )\n",
    "ax2.set_ylabel('Time')\n",
    "\n",
    "plt.title(\"Hours heatmap of UR1 (2022-2023)\", fontsize=20, fontweight='bold', y=1.10)"
   ]
  }
 ],
 "metadata": {
  "kernelspec": {
   "display_name": "Python 3",
   "language": "python",
   "name": "python3"
  },
  "language_info": {
   "codemirror_mode": {
    "name": "ipython",
    "version": 3
   },
   "file_extension": ".py",
   "mimetype": "text/x-python",
   "name": "python",
   "nbconvert_exporter": "python",
   "pygments_lexer": "ipython3",
   "version": "3.10.9"
  },
  "orig_nbformat": 4,
  "vscode": {
   "interpreter": {
    "hash": "e7370f93d1d0cde622a1f8e1c04877d8463912d04d973331ad4851f04de6915a"
   }
  }
 },
 "nbformat": 4,
 "nbformat_minor": 2
}
