{
 "cells": [
  {
   "cell_type": "markdown",
   "metadata": {},
   "source": [
    "# DE-TP2 : Analyse de données nutritionelles "
   ]
  },
  {
   "attachments": {},
   "cell_type": "markdown",
   "metadata": {},
   "source": [
    "## Objectifs\n",
    "\n",
    "Ce TP vise à enchainer différentes tâches récurrentes lorsqu'il s'agit de traiter des données.\n",
    "```\n",
    "1. Récupération sur le Web\n",
    "        urllib.requests\n",
    "            urllib.requests.urlopen\n",
    "        BeautifulSoup \n",
    "            soup.find_all\n",
    "        pd.read_html\n",
    "        try/except\n",
    "        wget \n",
    "2. Nettoyage Aggrégation et mise en forme avec la librairie Pandas\n",
    "        pd.concat\n",
    "        df.loc\n",
    "        df.iloc\n",
    "        df[].str.contains\n",
    "        df[].str.replace\n",
    "        del(df[])\n",
    "        df['new_column']=df['a']-df['b']\n",
    "3. Analyse \n",
    "        Utilisation de seaborn \n",
    "        Utilisation de sklearn.pca\n",
    "4. Visualisation\n",
    "        matplotlib.scatter\n",
    "        fig.figimage\n",
    "```"
   ]
  },
  {
   "cell_type": "markdown",
   "metadata": {},
   "source": [
    "# Récupération des données"
   ]
  },
  {
   "cell_type": "markdown",
   "metadata": {},
   "source": [
    "Les données que l'on souhaite récupérer, agréger et visualiser sont à récupérer derrière l'url [Aprifel](http://www.aprifel.com/)"
   ]
  },
  {
   "cell_type": "code",
   "execution_count": 1,
   "metadata": {},
   "outputs": [],
   "source": [
    "import numpy as np \n",
    "import os\n",
    "import time\n",
    "import pandas as pd\n",
    "import matplotlib.pyplot as plt \n",
    "import seaborn as sb\n",
    "from bs4 import BeautifulSoup\n",
    "import urllib.request, urllib.parse, urllib.error"
   ]
  },
  {
   "cell_type": "markdown",
   "metadata": {},
   "source": [
    "## Récupération de la liste des items proposés. "
   ]
  },
  {
   "cell_type": "markdown",
   "metadata": {},
   "source": [
    "Ecrire un bloc de code utilisant beautiful soup pour extraire le nom de l'item\n",
    "\n",
    "    from bs4 import BeautifulSoup \n",
    "\n",
    "Utiliser la fonction `pd.read_html` de `pandas` pour construire un dictionnaire `ditems` de listes de dataFrame. Chaque élément de la liste étant le DataFrame associé à chacune des tables présente dans la page html. \n",
    "\n",
    "Notez que read_html dépend de BeautifulSoup. "
   ]
  },
  {
   "cell_type": "code",
   "execution_count": 2,
   "metadata": {},
   "outputs": [],
   "source": [
    "url_prefix=\"http://www.aprifel.com/fiche-nutri-produit-analyse-poire,\"\n",
    "ditems = {}\n",
    "for k in range(1,101):\n",
    "    url = url_prefix + str(k) + '.html'\n",
    "    # recupération du nom de l'item  (BeautifulSoup) \n",
    "    \n",
    "        # code ici \n",
    "        \n",
    "    # récupération des tables pd.read_html\n",
    "    \n",
    "        # code ici"
   ]
  },
  {
   "cell_type": "markdown",
   "metadata": {},
   "source": [
    "# Nettoyage des données récupérées"
   ]
  },
  {
   "cell_type": "markdown",
   "metadata": {},
   "source": [
    "Les données telles qu'elles ont été récupérées ne sont pas directement exploitables. On souhaite donc les convertir au format numérique, les nettoyer et les aggréger en un unique DataFrame.\n",
    "\n",
    "**Ecrire une fonction `clean` qui accepte en entrée une liste de `DataFrame` associée à un item et qui retourne un Dataframe nettoyé, où chaque entrée est numérique. Utilisez une syntaxe du type `df[1].str` pour invoquer les méthodes python associée aux chaines de caractères **"
   ]
  },
  {
   "cell_type": "markdown",
   "metadata": {},
   "source": [
    "## Nettoyage des DataFrame (clean())\n",
    "\n",
    "\n",
    "    Ecrire une fonction de nettoyage des listes de DataFrame récupérés qui \n",
    "    - Construit un index à partir de la colonne de features\n",
    "    - Supprime les colonnes superflues\n",
    "    - Gére le cas des données manquantes (par exemple NC)  \n",
    "    - aggrège les différents Dataframe d'un même item\n",
    "    - Convertit toutes les quantités en une même unité de masse (en grammes) \n",
    "        - Astuce : Créer des colonnes temporaire `df['mug']`  et `df['mg']` pour identifier les lignes asoociées aux diverses unités \n",
    "    - Convertit les colonnes en valeurs flottantes ` astype(float)'\n",
    " "
   ]
  },
  {
   "cell_type": "code",
   "execution_count": 3,
   "metadata": {},
   "outputs": [],
   "source": [
    "def clean(ldf,item_name):\n",
    "    \"\"\"\n",
    "    \n",
    "    Parameters\n",
    "    ----------\n",
    "    \n",
    "    ldf : list of pandas DataFrame\n",
    "    item_name : string \n",
    "    \n",
    "    Returns\n",
    "    -------\n",
    "    \n",
    "    df : cleaned DataFrame\n",
    "        1 row : values in grammes \n",
    "        2 Valeur nutritionnelle recommandée déduite\n",
    "        \n",
    "    \n",
    "    \"\"\"\n",
    "    \n",
    "   \n",
    "    return(dft)"
   ]
  },
  {
   "cell_type": "markdown",
   "metadata": {},
   "source": [
    "### Méthodologie\n",
    "\n",
    "    + Ne commencer pas par implémenter la fonction `clean` directement \n",
    "    + Implémenter le traitement sur un cas particulier \n",
    "    + Généraliser à plusieurs cas (items) \n",
    "    + Terminer en implémentant la fonction"
   ]
  },
  {
   "cell_type": "markdown",
   "metadata": {},
   "source": [
    "## Aggrégation des DataFrames pour tous les items"
   ]
  },
  {
   "cell_type": "markdown",
   "metadata": {},
   "source": [
    "Itérer sur tous les éléments du dictionnaire `ditems` et appliquer votre fonction de nettoyage `clean` sur toutes les listes de DataFrame et concaténer tous les DataFrame en un unique DataFrame regroupant tous les items.\n",
    "Récupérer les valeurs nutritionnelles recommandées pour construire un nouvel item `Humain`\n",
    "\n",
    "\n",
    "    Utilisez ici pd.concat"
   ]
  },
  {
   "cell_type": "code",
   "execution_count": 4,
   "metadata": {},
   "outputs": [
    {
     "name": "stdout",
     "output_type": "stream",
     "text": [
      "Empty DataFrame\n",
      "Columns: []\n",
      "Index: []\n",
      "Empty DataFrame\n",
      "Columns: []\n",
      "Index: []\n"
     ]
    }
   ],
   "source": [
    "df0 = pd.DataFrame()\n",
    "df1 = pd.DataFrame()\n",
    "for k,item in enumerate(ditems):\n",
    "    # votre code ici\n",
    "    pass\n",
    "    \n",
    "print(df0)\n",
    "print(df1)"
   ]
  },
  {
   "cell_type": "markdown",
   "metadata": {},
   "source": [
    "Vous devriez à ce stade disposer de 2 DataFrame dont les colonnes sont les suivantes :\n",
    "\n",
    "    Index(['Acides gras saturés', 'Acides organiques', 'Acides phénoliques',\n",
    "           'Autres polyphénols', 'Calcium', 'Cuivre', 'Eau',\n",
    "           'Equivalent Vitamine A', 'Fer', 'Fibres', 'Flavonoides', 'Glucides',\n",
    "           'Iode', 'Lignanes', 'Lipides', 'Magnésium', 'Manganèse', 'Phosphore',\n",
    "           'Polyphénols totaux', 'Potassium', 'Protéines',\n",
    "           'Provitamine A Béta-carotène', 'Sodium', 'Stilbènes', 'Sucre',\n",
    "           'Sélénium', 'Vitamine B1', 'Vitamine B2', 'Vitamine B3', 'Vitamine B5',\n",
    "           'Vitamine B6', 'Vitamine B9', 'Vitamine C', 'Vitamine E', 'Zinc'],\n",
    "          dtype='object')\n",
    " \n",
    "Le premier DataFrame `df0` contient toutes les informations nutritionelles d'un item \n",
    "Le second DataFrame `df1` contient les apports journaliers recommandés déduit de la colonne VNR de chaque item"
   ]
  },
  {
   "cell_type": "code",
   "execution_count": 5,
   "metadata": {},
   "outputs": [],
   "source": [
    "# Listes utiles pour extraire les sous DataFrame : Composants , Mineraux, PolyPhenols , Vitamines\n",
    "lPolyphenol=['Acides organiques', 'Acides phénoliques', 'Autres polyphénols', 'Flavonoides', 'Lignanes', 'Polyphénols totaux', 'Stilbènes']\n",
    "lComposants = ['Eau','Fibres','Glucides','Sucre','Lipides','Protéines','Acides gras saturés']\n",
    "lVitamines = ['Equivalent Vitamine A', 'Provitamine A Béta-carotène', 'Vitamine B1', 'Vitamine B2', 'Vitamine B3', 'Vitamine B5', 'Vitamine B6', 'Vitamine B9', 'Vitamine C', 'Vitamine E']\n",
    "lMineraux = ['Calcium', 'Magnésium', 'Potassium', 'Sodium', 'Sélénium', 'Zinc', 'Phosphore', 'Cuivre', 'Fer', 'Iode', 'Manganèse']"
   ]
  },
  {
   "cell_type": "code",
   "execution_count": 6,
   "metadata": {},
   "outputs": [
    {
     "ename": "AssertionError",
     "evalue": "",
     "output_type": "error",
     "traceback": [
      "\u001b[1;31m---------------------------------------------------------------------------\u001b[0m",
      "\u001b[1;31mAssertionError\u001b[0m                            Traceback (most recent call last)",
      "Cell \u001b[1;32mIn[6], line 2\u001b[0m\n\u001b[0;32m      1\u001b[0m \u001b[39m# 87 items, 35 features\u001b[39;00m\n\u001b[1;32m----> 2\u001b[0m \u001b[39massert\u001b[39;00m(df0\u001b[39m.\u001b[39mshape\u001b[39m==\u001b[39m(\u001b[39m87\u001b[39m,\u001b[39m35\u001b[39m))\n\u001b[0;32m      3\u001b[0m \u001b[39massert\u001b[39;00m(df1\u001b[39m.\u001b[39mshape\u001b[39m==\u001b[39m(\u001b[39m87\u001b[39m,\u001b[39m35\u001b[39m))\n",
      "\u001b[1;31mAssertionError\u001b[0m: "
     ]
    }
   ],
   "source": [
    "# 87 items, 35 features\n",
    "assert(df0.shape==(87,35))\n",
    "assert(df1.shape==(87,35))"
   ]
  },
  {
   "cell_type": "markdown",
   "metadata": {},
   "source": [
    "\n",
    "# Analyse des données"
   ]
  },
  {
   "cell_type": "markdown",
   "metadata": {},
   "source": [
    "## Visualisation de statistiques descriptives\n",
    "\n",
    "Utiliser le module [`seaborn`](https://seaborn.pydata.org/examples/index.html) pour analyser le DataFrame produit.\n",
    "\n",
    "+ Identifier les données corrélées. "
   ]
  },
  {
   "cell_type": "code",
   "execution_count": null,
   "metadata": {},
   "outputs": [],
   "source": [
    "# Votre code ici"
   ]
  },
  {
   "cell_type": "markdown",
   "metadata": {},
   "source": [
    "## Analyse en composantes  principales"
   ]
  },
  {
   "cell_type": "markdown",
   "metadata": {},
   "source": [
    "On souhaite représenter l'ensemble des items dans un plan (2 axes). \n",
    "Une manière possible consiste à déterminer les deux composantes principales de la matrice de données $A$.\n",
    "Et ensuite à projeter chaque item sur ces 2 composantes à l'aide d'un produit scalaire afin de déterminer les coordonnées de l'item dans le plan engendré par ces deux composantes. \n",
    "\n",
    "+ Vous pouvez mener cette analyse à l'aide la fonction `pca.fit`  de scikit-learn\n",
    "    \n",
    "        from sklearn.decomposition import PCA\n",
    "        pca = PCA(n_components=2,svd_solver='full',whiten=True)\n",
    "        \n",
    "+ Vous pouvez mener cette analyse sur des données brutes ou normalisées selon\n",
    "    $$ \\tilde{x} = \\frac{x-\\bar{x}}{\\sigma_x}$$"
   ]
  },
  {
   "cell_type": "markdown",
   "metadata": {},
   "source": [
    "### Normalisation des data frames"
   ]
  },
  {
   "cell_type": "code",
   "execution_count": null,
   "metadata": {},
   "outputs": [],
   "source": [
    "# votre code ici"
   ]
  },
  {
   "cell_type": "code",
   "execution_count": null,
   "metadata": {},
   "outputs": [],
   "source": [
    "dff_n1 = (dff-dff.mean())/dff.std()\n",
    "dff_n2 = (dff-dff.mean())/(dff.max()-dff.min())"
   ]
  },
  {
   "cell_type": "markdown",
   "metadata": {},
   "source": [
    "### PCA"
   ]
  },
  {
   "cell_type": "code",
   "execution_count": null,
   "metadata": {},
   "outputs": [],
   "source": [
    "from sklearn.decomposition import PCA\n",
    "pca = PCA(n_components=2,svd_solver='full',whiten=True)\n",
    "# Votre code ici "
   ]
  },
  {
   "cell_type": "code",
   "execution_count": null,
   "metadata": {},
   "outputs": [],
   "source": [
    "### Visualisation des composantes principales\n",
    "\n",
    "# Les composantes principales calculées sont dans pca.components_\n",
    "\n",
    "\n",
    "# votre code ici"
   ]
  },
  {
   "cell_type": "markdown",
   "metadata": {},
   "source": [
    "### Calcul des coordonnées\n",
    "\n",
    "Calculer à l'aide de la fonction `np.dot` le produit scalaire entre les vecteurs de paramètres et les composantes principales\n",
    "déterminées."
   ]
  },
  {
   "cell_type": "code",
   "execution_count": null,
   "metadata": {},
   "outputs": [],
   "source": [
    " # pts = "
   ]
  },
  {
   "cell_type": "markdown",
   "metadata": {},
   "source": [
    "# Visualisation des données"
   ]
  },
  {
   "cell_type": "markdown",
   "metadata": {},
   "source": [
    "**Afficher un scatter plot du nuage de points ainsi déterminer.** "
   ]
  },
  {
   "cell_type": "code",
   "execution_count": null,
   "metadata": {},
   "outputs": [],
   "source": [
    "# votre code d'affichage ici "
   ]
  },
  {
   "cell_type": "markdown",
   "metadata": {},
   "source": [
    "## Récupération des vignettes de chaque item"
   ]
  },
  {
   "cell_type": "markdown",
   "metadata": {},
   "source": [
    "Les vignettes représentant chaque fruit ou légume est stocké dans ce répertoire \n",
    "\n",
    "http://www.aprifel.com/imagesUp/fiche/\n",
    "\n",
    "Par exemple le topinambour est le numéro 82 et le nom de sa vignette jpeg est `82_m.jpg`\n",
    "![Topinambour](http://www.aprifel.com/imagesUp/fiche/82_m.jpg)\n",
    "\n",
    "En cas d'insuccès de cette récupération les vignettes sont également disponibles dans une archive sur le Moodle. "
   ]
  },
  {
   "cell_type": "markdown",
   "metadata": {},
   "source": [
    "Un peu de ligne de commande pour récupérer les vignettes au format .jpg  \n",
    "Utiliser wget dans une boucle for bash "
   ]
  },
  {
   "cell_type": "markdown",
   "metadata": {},
   "source": [
    "    for i in `seq 1 100`; \n",
    "    do  wget  \"http://www.aprifel.com/imagesUp/fiche/\"$i\"_m.jpg\"; \n",
    "    done\n",
    "    \n",
    "   ![Wget](https://img.labnol.org/di/wget-mirror-site.png)"
   ]
  },
  {
   "cell_type": "markdown",
   "metadata": {},
   "source": [
    "## Affichge d'un scatter plot de vignettes \n",
    " \n",
    " Compléter la cellule ci-dessous afin d'afficher la vignette de chaque item correctement placée dans le plan\n",
    " "
   ]
  },
  {
   "cell_type": "code",
   "execution_count": null,
   "metadata": {},
   "outputs": [],
   "source": [
    "import matplotlib.pyplot as plt\n",
    "from PIL import Image\n",
    "import numpy as np\n",
    "##\n",
    "## A compléter\n",
    "for k1,k in enumerate(dff.index):\n",
    "    im = Image.open('images/'+str(k)+'_m.jpg')\n",
    "    height = im.size[1]\n",
    "# Flottant entre 0 et 1 plutôt qu'entier entre 0 et 255 \n",
    "    im = np.array(im).astype(np.float) / 255\n",
    "    x = \n",
    "    y = \n",
    "    fig.figimage(im,xo=,yo=,zorder=,alpha=)\n",
    "    plt.annotate(ditems[k][0],xy=(x,y))\n",
    "    #fig.savefig('nutrition_facts.png', dpi=80)\n",
    "    plt.axis('off')\n",
    "plt.show()"
   ]
  }
 ],
 "metadata": {
  "kernelspec": {
   "display_name": "Python 3",
   "language": "python",
   "name": "python3"
  },
  "language_info": {
   "codemirror_mode": {
    "name": "ipython",
    "version": 3
   },
   "file_extension": ".py",
   "mimetype": "text/x-python",
   "name": "python",
   "nbconvert_exporter": "python",
   "pygments_lexer": "ipython3",
   "version": "3.10.7"
  },
  "nbTranslate": {
   "displayLangs": [
    "*"
   ],
   "hotkey": "alt-t",
   "langInMainMenu": true,
   "sourceLang": "en",
   "targetLang": "fr",
   "useGoogleTranslate": true
  },
  "toc": {
   "base_numbering": 1,
   "nav_menu": {},
   "number_sections": true,
   "sideBar": true,
   "skip_h1_title": false,
   "title_cell": "Table of Contents",
   "title_sidebar": "Contents",
   "toc_cell": false,
   "toc_position": {
    "height": "calc(100% - 180px)",
    "left": "10px",
    "top": "150px",
    "width": "165px"
   },
   "toc_section_display": true,
   "toc_window_display": true
  },
  "vscode": {
   "interpreter": {
    "hash": "369f2c481f4da34e4445cda3fffd2e751bd1c4d706f27375911949ba6bb62e1c"
   }
  }
 },
 "nbformat": 4,
 "nbformat_minor": 2
}
